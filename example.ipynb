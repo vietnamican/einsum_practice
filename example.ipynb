{
 "metadata": {
  "language_info": {
   "codemirror_mode": {
    "name": "ipython",
    "version": 3
   },
   "file_extension": ".py",
   "mimetype": "text/x-python",
   "name": "python",
   "nbconvert_exporter": "python",
   "pygments_lexer": "ipython3",
   "version": "3.7.9-final"
  },
  "orig_nbformat": 2,
  "kernelspec": {
   "name": "python3",
   "display_name": "Python 3",
   "language": "python"
  }
 },
 "nbformat": 4,
 "nbformat_minor": 2,
 "cells": [
  {
   "cell_type": "code",
   "execution_count": 1,
   "metadata": {},
   "outputs": [],
   "source": [
    "# import utility packages\n",
    "from tqdm import tqdm\n",
    "from time import time"
   ]
  },
  {
   "cell_type": "code",
   "execution_count": 2,
   "metadata": {},
   "outputs": [],
   "source": [
    "# import torch packages\n",
    "import torch\n",
    "import torch.optim as optim\n",
    "import torch.nn as nn\n",
    "import torch.nn.functional as F\n",
    "import torchvision"
   ]
  },
  {
   "cell_type": "code",
   "execution_count": 3,
   "metadata": {},
   "outputs": [],
   "source": [
    "# import torch summanry (like model.summary() in keras)\n",
    "from torchsummary import summary"
   ]
  },
  {
   "cell_type": "code",
   "execution_count": 4,
   "metadata": {},
   "outputs": [],
   "source": [
    "# import einops packages\n",
    "from einops.layers.torch import Rearrange"
   ]
  },
  {
   "cell_type": "code",
   "execution_count": 5,
   "metadata": {},
   "outputs": [
    {
     "output_type": "stream",
     "name": "stdout",
     "text": [
      "Using device cpu\n"
     ]
    }
   ],
   "source": [
    "# Setting hyperparameters\n",
    "device = torch.device('cuda' if torch.cuda.is_available() else 'cpu')\n",
    "print('Using device {}'.format(device))\n",
    "n_epochs = 3\n",
    "batch_size_train = 64\n",
    "batch_size_test = 64\n",
    "learning_rate = 0.01\n",
    "momentum = 0.5\n",
    "log_interval = 10\n",
    "if device == 'cuda':\n",
    "    random_seed = 42\n",
    "    torch.backends.cudnn.enabled = True\n",
    "    torch.manual_seed(random_seed)\n",
    "    torch.cuda.manual_seed(random_seed)\n",
    "else:\n",
    "    random_seed = 42\n",
    "    torch.backends.cudnn.enabled = False\n",
    "    torch.manual_seed(random_seed)"
   ]
  },
  {
   "cell_type": "code",
   "execution_count": 6,
   "metadata": {},
   "outputs": [],
   "source": [
    "# Loading data\n",
    "train_loader = torch.utils.data.DataLoader(\n",
    "    torchvision.datasets.MNIST('files/', train=True, download=True,\n",
    "                               transform=torchvision.transforms.Compose([\n",
    "                                   torchvision.transforms.ToTensor(),\n",
    "                                   torchvision.transforms.Normalize(\n",
    "                                       (0.1307,), (0.3081,))\n",
    "                               ])),\n",
    "    batch_size=batch_size_train, shuffle=True)\n",
    "\n",
    "test_loader = torch.utils.data.DataLoader(\n",
    "    torchvision.datasets.MNIST('files/', train=False, download=True,\n",
    "                               transform=torchvision.transforms.Compose([\n",
    "                                   torchvision.transforms.ToTensor(),\n",
    "                                   torchvision.transforms.Normalize(\n",
    "                                       (0.1307,), (0.3081,))\n",
    "                               ])),\n",
    "    batch_size=batch_size_test, shuffle=True)"
   ]
  },
  {
   "cell_type": "code",
   "execution_count": 7,
   "metadata": {},
   "outputs": [],
   "source": [
    "# Traditional model using Pytorch API\n",
    "class Net(nn.Module):\n",
    "    def __init__(self):\n",
    "        super(Net, self).__init__()\n",
    "        self.conv1 = nn.Conv2d(1, 10, kernel_size=5)\n",
    "        self.conv2 = nn.Conv2d(10, 20, kernel_size=5)\n",
    "        self.conv2_drop = nn.Dropout2d()\n",
    "        self.fc1 = nn.Linear(320, 1024)\n",
    "        self.fc2 = nn.Linear(1024, 10)\n",
    "\n",
    "    def forward(self, x):\n",
    "        x = F.relu(F.max_pool2d(self.conv1(x), 2))\n",
    "        x = F.relu(F.max_pool2d(self.conv2_drop(self.conv2(x)), 2))\n",
    "        x = x.view(-1, 320)\n",
    "        x = F.relu(self.fc1(x))\n",
    "        x = F.dropout(x, training=self.training)\n",
    "        x = self.fc2(x)\n",
    "        return F\n",
    "        .log_softmax(x)"
   ]
  },
  {
   "cell_type": "code",
   "execution_count": 16,
   "metadata": {},
   "outputs": [],
   "source": [
    "from layers import EinConv2d, EinMaxPool2d, EinLinear\n",
    "from layers import PureEinConv2d\n",
    "\n",
    "# My model using alternative einsum layers\n",
    "class Net(nn.Module):\n",
    "    def __init__(self):\n",
    "        super(Net, self).__init__()\n",
    "        self.conv1 = PureEinConv2d(1, 10, kernel_size=5)\n",
    "        self.conv2 = PureEinConv2d(10, 20, kernel_size=5)\n",
    "        self.conv2_drop = nn.Dropout2d()\n",
    "        self.fc1 = EinLinear(320, 1024)\n",
    "        self.fc2 = EinLinear(1024, 10)\n",
    "\n",
    "    def forward(self, x):\n",
    "        x = self.conv1(x)\n",
    "        x = EinMaxPool2d(2)(x)\n",
    "        x = F.relu(x)\n",
    "        x = self.conv2(x)\n",
    "        x = self.conv2_drop(x)\n",
    "        x = EinMaxPool2d(2)(x)\n",
    "        x = F.relu(x)\n",
    "        x = Rearrange('b c h w -> b (c h w)')(x)\n",
    "        x = F.relu(self.fc1(x))\n",
    "        x = F.dropout(x, training=self.training)\n",
    "        x = self.fc2(x)\n",
    "        return F.log_softmax(x)"
   ]
  },
  {
   "cell_type": "code",
   "execution_count": 18,
   "metadata": {},
   "outputs": [],
   "source": [
    "# Trainer\n",
    "def train(epoch, total_epoch):\n",
    "    network.to(device).train()\n",
    "    print('Train Epoch {} of {}'.format(epoch, total_epoch))\n",
    "    t = tqdm(train_loader)\n",
    "    for batch_idx, (data, target) in enumerate(t):\n",
    "        data = data.to(device)\n",
    "        target = target.to(device)\n",
    "        optimizer.zero_grad()\n",
    "        output = network(data)\n",
    "        loss = F.nll_loss(output, target)\n",
    "        loss.backward()\n",
    "        optimizer.step()\n",
    "        if batch_idx % log_interval == 0:\n",
    "            train_losses.append(loss.item())\n",
    "            t.set_postfix({'Loss': sum(train_losses)/len(train_losses)})\n",
    "            train_counter.append(batch_idx*64 + (epoch + 1)\n",
    "                                 * len(train_loader.dataset))\n",
    "    torch.save(network.state_dict(), 'result/model.pth')\n",
    "    torch.save(optimizer.state_dict(), 'result/optimizer.pth')\n",
    "\n",
    "# Tester\n",
    "def test():\n",
    "    network.to(device).eval()\n",
    "    test_loss = 0\n",
    "    correct = 0\n",
    "    with torch.no_grad():\n",
    "        for data, target in test_loader:\n",
    "            data = data.to(device)\n",
    "            target = target.to(device)\n",
    "            output = network(data)\n",
    "            test_loss += F.nll_loss(output, target, size_average=False).item()\n",
    "            pred = output.data.max(1, keepdim=True)[1]\n",
    "            correct += pred.eq(target.data.view_as(pred)).sum()\n",
    "        test_loss /= len(test_loader.dataset)\n",
    "        test_losses.append(test_loss)\n",
    "        print('\\nTest set: Avg. loss: {:.4f}, Accuracy: {}/{} ({:.0f}%)\\n'.format(\n",
    "            test_loss, correct, len(test_loader.dataset),\n",
    "            100. * correct / len(test_loader.dataset)))"
   ]
  },
  {
   "cell_type": "code",
   "execution_count": 19,
   "metadata": {},
   "outputs": [],
   "source": [
    "network = Net()\n",
    "optimizer = optim.SGD(network.parameters(), lr=learning_rate,\n",
    "                      momentum=momentum)\n",
    "train_losses = []\n",
    "train_counter = []\n",
    "test_losses = []\n",
    "test_counter = [i*len(train_loader.dataset) for i in range(n_epochs + 1)]"
   ]
  },
  {
   "cell_type": "code",
   "execution_count": 24,
   "metadata": {},
   "outputs": [
    {
     "output_type": "stream",
     "name": "stdout",
     "text": [
      "==========================================================================================\nLayer (type:depth-idx)                   Output Shape              Param #\n==========================================================================================\n├─PureEinConv2d: 1-1                     [-1, 10, 24, 24]          260\n├─PureEinConv2d: 1-2                     [-1, 20, 8, 8]            5,020\n├─Dropout2d: 1-3                         [-1, 20, 8, 8]            --\n├─EinLinear: 1-4                         [-1, 1024]                328,704\n├─EinLinear: 1-5                         [-1, 10]                  10,250\n==========================================================================================\nTotal params: 344,234\nTrainable params: 344,234\nNon-trainable params: 0\nTotal mult-adds (M): 0.80\n==========================================================================================\nInput size (MB): 0.00\nForward/backward pass size (MB): 0.06\nParams size (MB): 1.31\nEstimated Total Size (MB): 1.38\n==========================================================================================\n"
     ]
    },
    {
     "output_type": "execute_result",
     "data": {
      "text/plain": [
       "==========================================================================================\n",
       "Layer (type:depth-idx)                   Output Shape              Param #\n",
       "==========================================================================================\n",
       "├─PureEinConv2d: 1-1                     [-1, 10, 24, 24]          260\n",
       "├─PureEinConv2d: 1-2                     [-1, 20, 8, 8]            5,020\n",
       "├─Dropout2d: 1-3                         [-1, 20, 8, 8]            --\n",
       "├─EinLinear: 1-4                         [-1, 1024]                328,704\n",
       "├─EinLinear: 1-5                         [-1, 10]                  10,250\n",
       "==========================================================================================\n",
       "Total params: 344,234\n",
       "Trainable params: 344,234\n",
       "Non-trainable params: 0\n",
       "Total mult-adds (M): 0.80\n",
       "==========================================================================================\n",
       "Input size (MB): 0.00\n",
       "Forward/backward pass size (MB): 0.06\n",
       "Params size (MB): 1.31\n",
       "Estimated Total Size (MB): 1.38\n",
       "=========================================================================================="
      ]
     },
     "metadata": {},
     "execution_count": 24
    }
   ],
   "source": [
    "summary(network, (1, 28, 28))"
   ]
  },
  {
   "cell_type": "code",
   "execution_count": 25,
   "metadata": {},
   "outputs": [
    {
     "output_type": "stream",
     "name": "stderr",
     "text": [
      "  0%|          | 2/938 [00:00<01:00, 15.50it/s, Loss=2.37]\n",
      "Test set: Avg. loss: 2.3116, Accuracy: 865/10000 (9%)\n",
      "\n",
      "Train Epoch 1 of 3\n",
      "100%|██████████| 938/938 [00:43<00:00, 21.36it/s, Loss=0.555]\n",
      "\n",
      "Traning process takes 43.93800592422485 seconds\n",
      "  0%|          | 2/938 [00:00<00:52, 17.85it/s, Loss=0.554]\n",
      "Test set: Avg. loss: 0.1314, Accuracy: 9595/10000 (96%)\n",
      "\n",
      "Train Epoch 2 of 3\n",
      "100%|██████████| 938/938 [00:46<00:00, 20.17it/s, Loss=0.4]\n",
      "\n",
      "Traning process takes 46.515998125076294 seconds\n",
      "  0%|          | 2/938 [00:00<00:50, 18.52it/s, Loss=0.399]\n",
      "Test set: Avg. loss: 0.0852, Accuracy: 9739/10000 (97%)\n",
      "\n",
      "Train Epoch 3 of 3\n",
      "100%|██████████| 938/938 [00:47<00:00, 19.88it/s, Loss=0.331]\n",
      "\n",
      "Traning process takes 47.19996905326843 seconds\n",
      "\n",
      "Test set: Avg. loss: 0.0692, Accuracy: 9770/10000 (98%)\n",
      "\n"
     ]
    }
   ],
   "source": [
    "test()\n",
    "total_training_time = 0\n",
    "for epoch in range(1, n_epochs + 1):\n",
    "    start = time()\n",
    "    train(epoch, n_epochs)\n",
    "    end = time()\n",
    "    print('\\nTraning process takes {} seconds'.format(end - start))\n",
    "    total_training_time += end - start\n",
    "    test()"
   ]
  },
  {
   "cell_type": "code",
   "execution_count": null,
   "metadata": {},
   "outputs": [],
   "source": []
  }
 ]
}